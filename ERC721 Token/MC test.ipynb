{
 "cells": [
  {
   "cell_type": "code",
   "execution_count": 1,
   "id": "ee94819f",
   "metadata": {},
   "outputs": [],
   "source": [
    "import numpy as np\n",
    "import pandas as pd\n",
    "import random\n",
    "from scipy.stats import norm\n",
    "import matplotlib.pyplot as plt\n",
    "import matplotlib.ticker as ticker"
   ]
  },
  {
   "cell_type": "code",
   "execution_count": 2,
   "id": "73f55d0e",
   "metadata": {},
   "outputs": [],
   "source": [
    "def mc_simulation(m,n):       #m is the number of simulation and n is the number of steps\n",
    "    dt = T / n \n",
    "    S = np.zeros((n + 1, m))\n",
    "    S[0] = Spot\n",
    "    rn = np.random.standard_normal(S.shape)\n",
    "    for t in range(1, n + 1): \n",
    "        S[t] = S[t-1] * np.exp((r - 0.5 * vol ** 2) * dt + vol * np.sqrt(dt) * rn[t]) \n",
    "    return S"
   ]
  },
  {
   "cell_type": "code",
   "execution_count": 3,
   "id": "f327d720",
   "metadata": {},
   "outputs": [],
   "source": [
    "Spot = 40000\n",
    "vol = 0.3\n",
    "T = 1/12\n",
    "r = 0.01"
   ]
  },
  {
   "cell_type": "code",
   "execution_count": 4,
   "id": "b76337e6",
   "metadata": {},
   "outputs": [],
   "source": [
    "S = mc_simulation(2,30)"
   ]
  },
  {
   "cell_type": "code",
   "execution_count": 5,
   "id": "4b8b57b4",
   "metadata": {},
   "outputs": [
    {
     "data": {
      "text/html": [
       "<div>\n",
       "<style scoped>\n",
       "    .dataframe tbody tr th:only-of-type {\n",
       "        vertical-align: middle;\n",
       "    }\n",
       "\n",
       "    .dataframe tbody tr th {\n",
       "        vertical-align: top;\n",
       "    }\n",
       "\n",
       "    .dataframe thead th {\n",
       "        text-align: right;\n",
       "    }\n",
       "</style>\n",
       "<table border=\"1\" class=\"dataframe\">\n",
       "  <thead>\n",
       "    <tr style=\"text-align: right;\">\n",
       "      <th></th>\n",
       "      <th>Sim1</th>\n",
       "      <th>Sim2</th>\n",
       "    </tr>\n",
       "  </thead>\n",
       "  <tbody>\n",
       "    <tr>\n",
       "      <th>2022-03-31</th>\n",
       "      <td>40000.00</td>\n",
       "      <td>40000.00</td>\n",
       "    </tr>\n",
       "    <tr>\n",
       "      <th>2022-04-01</th>\n",
       "      <td>40313.26</td>\n",
       "      <td>41117.21</td>\n",
       "    </tr>\n",
       "    <tr>\n",
       "      <th>2022-04-02</th>\n",
       "      <td>40852.14</td>\n",
       "      <td>40556.47</td>\n",
       "    </tr>\n",
       "    <tr>\n",
       "      <th>2022-04-03</th>\n",
       "      <td>40571.83</td>\n",
       "      <td>40232.87</td>\n",
       "    </tr>\n",
       "    <tr>\n",
       "      <th>2022-04-04</th>\n",
       "      <td>41028.92</td>\n",
       "      <td>39473.63</td>\n",
       "    </tr>\n",
       "    <tr>\n",
       "      <th>2022-04-05</th>\n",
       "      <td>41436.57</td>\n",
       "      <td>39269.43</td>\n",
       "    </tr>\n",
       "    <tr>\n",
       "      <th>2022-04-06</th>\n",
       "      <td>41267.79</td>\n",
       "      <td>39236.21</td>\n",
       "    </tr>\n",
       "    <tr>\n",
       "      <th>2022-04-07</th>\n",
       "      <td>40515.44</td>\n",
       "      <td>39118.18</td>\n",
       "    </tr>\n",
       "    <tr>\n",
       "      <th>2022-04-08</th>\n",
       "      <td>40798.15</td>\n",
       "      <td>40014.43</td>\n",
       "    </tr>\n",
       "    <tr>\n",
       "      <th>2022-04-09</th>\n",
       "      <td>42194.30</td>\n",
       "      <td>40011.65</td>\n",
       "    </tr>\n",
       "    <tr>\n",
       "      <th>2022-04-10</th>\n",
       "      <td>41447.21</td>\n",
       "      <td>39111.29</td>\n",
       "    </tr>\n",
       "    <tr>\n",
       "      <th>2022-04-11</th>\n",
       "      <td>40462.02</td>\n",
       "      <td>39020.41</td>\n",
       "    </tr>\n",
       "    <tr>\n",
       "      <th>2022-04-12</th>\n",
       "      <td>39913.14</td>\n",
       "      <td>38834.35</td>\n",
       "    </tr>\n",
       "    <tr>\n",
       "      <th>2022-04-13</th>\n",
       "      <td>38941.18</td>\n",
       "      <td>38026.47</td>\n",
       "    </tr>\n",
       "    <tr>\n",
       "      <th>2022-04-14</th>\n",
       "      <td>38971.76</td>\n",
       "      <td>39452.89</td>\n",
       "    </tr>\n",
       "    <tr>\n",
       "      <th>2022-04-15</th>\n",
       "      <td>40605.02</td>\n",
       "      <td>39166.76</td>\n",
       "    </tr>\n",
       "    <tr>\n",
       "      <th>2022-04-16</th>\n",
       "      <td>39945.20</td>\n",
       "      <td>40110.00</td>\n",
       "    </tr>\n",
       "    <tr>\n",
       "      <th>2022-04-17</th>\n",
       "      <td>40263.29</td>\n",
       "      <td>40895.64</td>\n",
       "    </tr>\n",
       "    <tr>\n",
       "      <th>2022-04-18</th>\n",
       "      <td>40837.18</td>\n",
       "      <td>40470.41</td>\n",
       "    </tr>\n",
       "    <tr>\n",
       "      <th>2022-04-19</th>\n",
       "      <td>39774.14</td>\n",
       "      <td>40301.76</td>\n",
       "    </tr>\n",
       "    <tr>\n",
       "      <th>2022-04-20</th>\n",
       "      <td>39708.48</td>\n",
       "      <td>40413.26</td>\n",
       "    </tr>\n",
       "    <tr>\n",
       "      <th>2022-04-21</th>\n",
       "      <td>38812.23</td>\n",
       "      <td>40406.50</td>\n",
       "    </tr>\n",
       "    <tr>\n",
       "      <th>2022-04-22</th>\n",
       "      <td>38876.77</td>\n",
       "      <td>40268.64</td>\n",
       "    </tr>\n",
       "    <tr>\n",
       "      <th>2022-04-23</th>\n",
       "      <td>38797.49</td>\n",
       "      <td>39526.69</td>\n",
       "    </tr>\n",
       "    <tr>\n",
       "      <th>2022-04-24</th>\n",
       "      <td>38597.36</td>\n",
       "      <td>39531.91</td>\n",
       "    </tr>\n",
       "    <tr>\n",
       "      <th>2022-04-25</th>\n",
       "      <td>36919.00</td>\n",
       "      <td>40052.53</td>\n",
       "    </tr>\n",
       "    <tr>\n",
       "      <th>2022-04-26</th>\n",
       "      <td>36534.91</td>\n",
       "      <td>40305.88</td>\n",
       "    </tr>\n",
       "    <tr>\n",
       "      <th>2022-04-27</th>\n",
       "      <td>36237.14</td>\n",
       "      <td>40913.06</td>\n",
       "    </tr>\n",
       "    <tr>\n",
       "      <th>2022-04-28</th>\n",
       "      <td>36556.20</td>\n",
       "      <td>40776.76</td>\n",
       "    </tr>\n",
       "    <tr>\n",
       "      <th>2022-04-29</th>\n",
       "      <td>36906.47</td>\n",
       "      <td>39971.30</td>\n",
       "    </tr>\n",
       "    <tr>\n",
       "      <th>2022-04-30</th>\n",
       "      <td>37104.28</td>\n",
       "      <td>39255.23</td>\n",
       "    </tr>\n",
       "  </tbody>\n",
       "</table>\n",
       "</div>"
      ],
      "text/plain": [
       "                Sim1      Sim2\n",
       "2022-03-31  40000.00  40000.00\n",
       "2022-04-01  40313.26  41117.21\n",
       "2022-04-02  40852.14  40556.47\n",
       "2022-04-03  40571.83  40232.87\n",
       "2022-04-04  41028.92  39473.63\n",
       "2022-04-05  41436.57  39269.43\n",
       "2022-04-06  41267.79  39236.21\n",
       "2022-04-07  40515.44  39118.18\n",
       "2022-04-08  40798.15  40014.43\n",
       "2022-04-09  42194.30  40011.65\n",
       "2022-04-10  41447.21  39111.29\n",
       "2022-04-11  40462.02  39020.41\n",
       "2022-04-12  39913.14  38834.35\n",
       "2022-04-13  38941.18  38026.47\n",
       "2022-04-14  38971.76  39452.89\n",
       "2022-04-15  40605.02  39166.76\n",
       "2022-04-16  39945.20  40110.00\n",
       "2022-04-17  40263.29  40895.64\n",
       "2022-04-18  40837.18  40470.41\n",
       "2022-04-19  39774.14  40301.76\n",
       "2022-04-20  39708.48  40413.26\n",
       "2022-04-21  38812.23  40406.50\n",
       "2022-04-22  38876.77  40268.64\n",
       "2022-04-23  38797.49  39526.69\n",
       "2022-04-24  38597.36  39531.91\n",
       "2022-04-25  36919.00  40052.53\n",
       "2022-04-26  36534.91  40305.88\n",
       "2022-04-27  36237.14  40913.06\n",
       "2022-04-28  36556.20  40776.76\n",
       "2022-04-29  36906.47  39971.30\n",
       "2022-04-30  37104.28  39255.23"
      ]
     },
     "execution_count": 5,
     "metadata": {},
     "output_type": "execute_result"
    }
   ],
   "source": [
    "data = pd.DataFrame(S.round(2),\n",
    "                    columns = ['Sim1','Sim2'],\n",
    "                    index = pd.date_range('2022-3-31', periods=31))\n",
    "data"
   ]
  },
  {
   "cell_type": "code",
   "execution_count": 6,
   "id": "3d6fe2e2",
   "metadata": {},
   "outputs": [
    {
     "data": {
      "text/plain": [
       "[<matplotlib.lines.Line2D at 0x7fde01d55fd0>]"
      ]
     },
     "execution_count": 6,
     "metadata": {},
     "output_type": "execute_result"
    },
    {
     "data": {
      "image/png": "[encoded data removed]",
      "text/plain": [
       "<Figure size 800x640 with 1 Axes>"
      ]
     },
     "metadata": {
      "needs_background": "light"
     },
     "output_type": "display_data"
    }
   ],
   "source": [
    "plt.figure(figsize = (10, 8),dpi = 80)\n",
    "plt.plot(data.index, data['Sim1'], 'c-', lw = 2)\n",
    "plt.gca().xaxis.set_major_locator(ticker.MultipleLocator(4))\n",
    "plt.plot(data['Sim1'].index[data['Sim1'] == data['Sim1'].max()], data['Sim1'].max(),'ro', ms = 10)\n",
    "plt.plot(data['Sim1'].index[data['Sim1'] == data['Sim1'].min()], data['Sim1'].min(),'go', ms = 10)\n",
    "plt.plot(data['Sim1'].index[data['Sim1'] == data['Sim1'][-1]], data['Sim1'][-1],'yo', ms = 10)"
   ]
  },
  {
   "cell_type": "code",
   "execution_count": 7,
   "id": "e88a2cb4",
   "metadata": {},
   "outputs": [
    {
     "data": {
      "text/plain": [
       "42194.3"
      ]
     },
     "execution_count": 7,
     "metadata": {},
     "output_type": "execute_result"
    }
   ],
   "source": [
    "data['Sim1'].max()"
   ]
  },
  {
   "cell_type": "code",
   "execution_count": 8,
   "id": "3ca9fb27",
   "metadata": {},
   "outputs": [
    {
     "data": {
      "text/plain": [
       "36237.14"
      ]
     },
     "execution_count": 8,
     "metadata": {},
     "output_type": "execute_result"
    }
   ],
   "source": [
    "data['Sim1'].min()"
   ]
  },
  {
   "cell_type": "code",
   "execution_count": 9,
   "id": "560f4536",
   "metadata": {},
   "outputs": [
    {
     "data": {
      "text/plain": [
       "37104.28"
      ]
     },
     "execution_count": 9,
     "metadata": {},
     "output_type": "execute_result"
    }
   ],
   "source": [
    "data['Sim1'][-1]"
   ]
  },
  {
   "cell_type": "code",
   "execution_count": 10,
   "id": "1b76856d",
   "metadata": {},
   "outputs": [
    {
     "data": {
      "text/plain": [
       "[<matplotlib.lines.Line2D at 0x7fde022ff640>]"
      ]
     },
     "execution_count": 10,
     "metadata": {},
     "output_type": "execute_result"
    },
    {
     "data": {
      "image/png": "[encoded data removed]",
      "text/plain": [
       "<Figure size 800x640 with 1 Axes>"
      ]
     },
     "metadata": {
      "needs_background": "light"
     },
     "output_type": "display_data"
    }
   ],
   "source": [
    "plt.figure(figsize = (10, 8),dpi = 80)\n",
    "plt.plot(data.index, data['Sim2'], 'ko-', lw = 2)\n",
    "plt.gca().xaxis.set_major_locator(ticker.MultipleLocator(4))\n",
    "plt.plot(data['Sim2'].index[data['Sim2'] == data['Sim2'].max()], data['Sim2'].max(),'ro', ms = 10)\n",
    "plt.plot(data['Sim2'].index[data['Sim2'] == data['Sim2'].min()], data['Sim2'].min(),'go', ms = 10)\n",
    "plt.plot(data['Sim2'].index[data['Sim2'] == data['Sim2'][-1]], data['Sim2'][-1],'yo', ms = 10)"
   ]
  },
  {
   "cell_type": "code",
   "execution_count": 11,
   "id": "adb057cb",
   "metadata": {},
   "outputs": [
    {
     "data": {
      "text/plain": [
       "41117.21"
      ]
     },
     "execution_count": 11,
     "metadata": {},
     "output_type": "execute_result"
    }
   ],
   "source": [
    "data['Sim2'].max()"
   ]
  },
  {
   "cell_type": "code",
   "execution_count": 12,
   "id": "435b818e",
   "metadata": {},
   "outputs": [
    {
     "data": {
      "text/plain": [
       "38026.47"
      ]
     },
     "execution_count": 12,
     "metadata": {},
     "output_type": "execute_result"
    }
   ],
   "source": [
    "data['Sim2'].min()"
   ]
  },
  {
   "cell_type": "code",
   "execution_count": 13,
   "id": "93f7bdc0",
   "metadata": {},
   "outputs": [
    {
     "data": {
      "text/plain": [
       "39255.23"
      ]
     },
     "execution_count": 13,
     "metadata": {},
     "output_type": "execute_result"
    }
   ],
   "source": [
    "data['Sim2'][-1]"
   ]
  }
 ],
 "metadata": {
  "kernelspec": {
   "display_name": "Python 3",
   "language": "python",
   "name": "python3"
  },
  "language_info": {
   "codemirror_mode": {
    "name": "ipython",
    "version": 3
   },
   "file_extension": ".py",
   "mimetype": "text/x-python",
   "name": "python",
   "nbconvert_exporter": "python",
   "pygments_lexer": "ipython3",
   "version": "3.8.8"
  }
 },
 "nbformat": 4,
 "nbformat_minor": 5
}
